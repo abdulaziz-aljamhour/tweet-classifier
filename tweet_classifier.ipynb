{
 "cells": [
  {
   "cell_type": "markdown",
   "metadata": {},
   "source": [
    "# Building a tweet classifier using Transformers\n",
    "This notebooks contains the experiments and details to building a pipeline that classifies tweets"
   ]
  },
  {
   "cell_type": "code",
   "execution_count": 10,
   "metadata": {},
   "outputs": [],
   "source": [
    "from datasets import load_dataset\n",
    "emotions = load_dataset('emotion')\n",
    "ds_train = emotions['train']"
   ]
  },
  {
   "cell_type": "code",
   "execution_count": 24,
   "metadata": {},
   "outputs": [
    {
     "name": "stdout",
     "output_type": "stream",
     "text": [
      "DatasetDict({\n",
      "    train: Dataset({\n",
      "        features: ['text', 'label'],\n",
      "        num_rows: 16000\n",
      "    })\n",
      "    validation: Dataset({\n",
      "        features: ['text', 'label'],\n",
      "        num_rows: 2000\n",
      "    })\n",
      "    test: Dataset({\n",
      "        features: ['text', 'label'],\n",
      "        num_rows: 2000\n",
      "    })\n",
      "})\n",
      "________________________________________________________________________________\n",
      "Column names: ['text', 'label']\n",
      "Number of samples in training data: 16000\n",
      "\n",
      "sample label: 0\n",
      "sample text: i didnt feel humiliated\n",
      "\n",
      "sample label: 0\n",
      "sample text: i can go from feeling so hopeless to so damned hopeful just from being around someone who cares and is awake\n",
      "\n",
      "sample label: 3\n",
      "sample text: im grabbing a minute to post i feel greedy wrong\n",
      "\n",
      "sample label: 2\n",
      "sample text: i am ever feeling nostalgic about the fireplace i will know that it is still on the property\n",
      "\n",
      "sample label: 3\n",
      "sample text: i am feeling grouchy\n",
      "________________________________________________________________________________\n",
      "{'text': Value(dtype='string', id=None), 'label': ClassLabel(names=['sadness', 'joy', 'love', 'anger', 'fear', 'surprise'], id=None)}\n"
     ]
    }
   ],
   "source": [
    "print(emotions)\n",
    "print('__'*40)\n",
    "print(f'''Column names: {ds_train.column_names}\n",
    "Number of samples in training data: {len(ds_train)}'''\n",
    ")\n",
    "for index in range(5):\n",
    "    sample = ds_train[index]\n",
    "    print(f'''\n",
    "sample label: {sample['label']}\n",
    "sample text: {sample['text']}''')\n",
    "print('__'*40)\n",
    "print(ds_train.features)"
   ]
  },
  {
   "cell_type": "code",
   "execution_count": 26,
   "metadata": {},
   "outputs": [
    {
     "name": "stdout",
     "output_type": "stream",
     "text": [
      "{'text': ['i didnt feel humiliated', 'i can go from feeling so hopeless to so damned hopeful just from being around someone who cares and is awake', 'im grabbing a minute to post i feel greedy wrong', 'i am ever feeling nostalgic about the fireplace i will know that it is still on the property', 'i am feeling grouchy'], 'label': [0, 0, 3, 2, 3]}\n"
     ]
    }
   ],
   "source": [
    "print(ds_train[:5])"
   ]
  },
  {
   "cell_type": "code",
   "execution_count": null,
   "metadata": {},
   "outputs": [],
   "source": []
  }
 ],
 "metadata": {
  "kernelspec": {
   "display_name": ".venv",
   "language": "python",
   "name": "python3"
  },
  "language_info": {
   "codemirror_mode": {
    "name": "ipython",
    "version": 3
   },
   "file_extension": ".py",
   "mimetype": "text/x-python",
   "name": "python",
   "nbconvert_exporter": "python",
   "pygments_lexer": "ipython3",
   "version": "3.11.0"
  }
 },
 "nbformat": 4,
 "nbformat_minor": 2
}
